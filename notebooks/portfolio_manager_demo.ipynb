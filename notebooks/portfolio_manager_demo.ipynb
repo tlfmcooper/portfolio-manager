{
 "cells": [
  {
   "cell_type": "markdown",
   "metadata": {},
   "source": [
    "# Portfolio Manager - Interactive Demo\n",
    "\n",
    "This notebook demonstrates the key features of the Portfolio Manager package.\n"
   ]
  },
  {
   "cell_type": "markdown",
   "metadata": {},
   "source": [
    "## 1. Setup and Imports"
   ]
  },
  {
   "cell_type": "code",
   "execution_count": 1,
   "metadata": {},
   "outputs": [
    {
     "name": "stdout",
     "output_type": "stream",
     "text": [
      "✅ Portfolio Manager imported successfully!\n"
     ]
    }
   ],
   "source": [
    "# Import the portfolio manager components\n",
    "import sys\n",
    "from pathlib import Path\n",
    "\n",
    "# Add src to path\n",
    "project_root = Path.cwd().parent if 'notebooks' in str(Path.cwd()) else Path.cwd()\n",
    "src_path = project_root / 'src'\n",
    "sys.path.insert(0, str(src_path))\n",
    "\n",
    "try:\n",
    "    from portfolio_manager import Portfolio, YFinanceProvider\n",
    "    from portfolio_manager.analytics.performance import PerformanceAnalytics\n",
    "    from portfolio_manager.analytics.risk import RiskAnalytics\n",
    "    from portfolio_manager.analytics.optimization import PortfolioOptimizer\n",
    "    print(\"✅ Portfolio Manager imported successfully!\")\n",
    "except ImportError as e:\n",
    "    print(f\"❌ Import error: {e}\")\n",
    "    print(f\"Current working directory: {Path.cwd()}\")\n",
    "    print(f\"Looking for src at: {src_path}\")\n",
    "    print(f\"Src exists: {src_path.exists()}\")\n",
    "\n",
    "import pandas as pd\n",
    "import numpy as np\n",
    "import matplotlib.pyplot as plt\n",
    "import seaborn as sns\n",
    "import warnings\n",
    "warnings.filterwarnings('ignore')  # Suppress warnings for cleaner output\n",
    "\n",
    "# Set up plotting\n",
    "plt.style.use('default')\n",
    "sns.set_palette(\"husl\")\n",
    "plt.rcParams['figure.figsize'] = (12, 8)"
   ]
  },
  {
   "cell_type": "markdown",
   "metadata": {},
   "source": [
    "## 2. Data Fetching and Portfolio Creation"
   ]
  },
  {
   "cell_type": "code",
   "execution_count": 2,
   "metadata": {},
   "outputs": [
    {
     "name": "stdout",
     "output_type": "stream",
     "text": [
      "Fetching data for: AAPL, GOOGL, MSFT, AMZN, TSLA, NVDA\n",
      "✅ Successfully loaded 6 assets\n",
      "  AAPL: $230.03 (Apple Inc.)\n",
      "  GOOGL: $240.37 (Alphabet Inc.)\n",
      "  MSFT: $501.01 (Microsoft Corporation)\n",
      "  AMZN: $229.95 (Amazon.com, Inc.)\n",
      "  TSLA: $368.81 (Tesla, Inc.)\n",
      "  NVDA: $177.17 (NVIDIA Corporation)\n"
     ]
    }
   ],
   "source": [
    "# Set up data provider\n",
    "provider = YFinanceProvider()\n",
    "\n",
    "# Define our universe of assets\n",
    "symbols = ['AAPL', 'GOOGL', 'MSFT', 'AMZN', 'TSLA', 'NVDA']\n",
    "print(f\"Fetching data for: {', '.join(symbols)}\")\n",
    "\n",
    "# Fetch asset data\n",
    "try:\n",
    "    assets = provider.get_multiple_assets(symbols)\n",
    "    print(f\"✅ Successfully loaded {len(assets)} assets\")\n",
    "    \n",
    "    if len(assets) == 0:\n",
    "        print(\"⚠️ No assets loaded. Please check your internet connection or try fewer symbols.\")\n",
    "    else:\n",
    "        # Display asset info\n",
    "        for asset in assets:\n",
    "            current_price = asset.price_data['Close'].iloc[-1]\n",
    "            print(f\"  {asset.symbol}: ${current_price:.2f} ({asset.name})\")\n",
    "            \n",
    "except Exception as e:\n",
    "    print(f\"❌ Error fetching data: {e}\")\n",
    "    # Fallback: reduce number of symbols\n",
    "    symbols = ['AAPL', 'MSFT', 'GOOGL']\n",
    "    print(f\"Trying with fewer symbols: {symbols}\")\n",
    "    assets = provider.get_multiple_assets(symbols)\n",
    "    print(f\"✅ Successfully loaded {len(assets)} assets\")"
   ]
  },
  {
   "cell_type": "markdown",
   "metadata": {},
   "source": [
    "## 3. Create Portfolio with Equal Weights"
   ]
  },
  {
   "cell_type": "code",
   "execution_count": 3,
   "metadata": {},
   "outputs": [
    {
     "name": "stdout",
     "output_type": "stream",
     "text": [
      "Added AAPL: 16.7%\n",
      "Added GOOGL: 16.7%\n",
      "Added MSFT: 16.7%\n",
      "Added AMZN: 16.7%\n",
      "Added TSLA: 16.7%\n",
      "Added NVDA: 16.7%\n",
      "\n",
      "📊 Portfolio Summary:\n",
      "  name: Tech Growth Portfolio\n",
      "  num_assets: 6\n",
      "  cash_position: 0.0\n",
      "  base_currency: USD\n",
      "  total_weight: 1.0\n",
      "  created_date: 2025-09-12 23:31:06.880472\n",
      "  assets: ['AAPL', 'GOOGL', 'MSFT', 'AMZN', 'TSLA', 'NVDA']\n"
     ]
    }
   ],
   "source": [
    "# Only proceed if we have assets\n",
    "if len(assets) > 0:\n",
    "    # Create portfolio\n",
    "    portfolio = Portfolio(name=\"Tech Growth Portfolio\")\n",
    "    \n",
    "    # Add assets with equal weights\n",
    "    equal_weight = 1.0 / len(assets)\n",
    "    for asset in assets:\n",
    "        portfolio.add_asset(asset.symbol, asset, equal_weight)\n",
    "        print(f\"Added {asset.symbol}: {equal_weight:.1%}\")\n",
    "    \n",
    "    print(f\"\\n📊 Portfolio Summary:\")\n",
    "    summary = portfolio.summary()\n",
    "    for key, value in summary.items():\n",
    "        if key != 'weights':\n",
    "            print(f\"  {key}: {value}\")\n",
    "else:\n",
    "    print(\"❌ Cannot create portfolio - no assets available\")"
   ]
  },
  {
   "cell_type": "markdown",
   "metadata": {},
   "source": [
    "## 4. Performance Analysis"
   ]
  },
  {
   "cell_type": "code",
   "execution_count": 4,
   "metadata": {},
   "outputs": [
    {
     "name": "stdout",
     "output_type": "stream",
     "text": [
      "📈 Performance Metrics:\n",
      "  Total Return: 39.31%\n",
      "  Annualized Return: 39.60%\n",
      "  Volatility: 31.45%\n",
      "  Sharpe Ratio: 1.20\n",
      "  Max Drawdown: -31.05%\n",
      "  Calmar Ratio: 1.28\n"
     ]
    }
   ],
   "source": [
    "# Performance analytics\n",
    "if len(assets) > 0 and 'portfolio' in locals():\n",
    "    try:\n",
    "        perf = PerformanceAnalytics(portfolio)\n",
    "        \n",
    "        # Calculate key metrics\n",
    "        metrics = {}\n",
    "        \n",
    "        try:\n",
    "            metrics['Total Return'] = perf.total_return()\n",
    "        except Exception as e:\n",
    "            print(f\"Warning: Could not calculate total return: {e}\")\n",
    "            metrics['Total Return'] = 0.0\n",
    "            \n",
    "        try:\n",
    "            metrics['Annualized Return'] = perf.annualized_return()\n",
    "        except Exception as e:\n",
    "            print(f\"Warning: Could not calculate annualized return: {e}\")\n",
    "            metrics['Annualized Return'] = 0.0\n",
    "            \n",
    "        try:\n",
    "            metrics['Volatility'] = perf.volatility()\n",
    "        except Exception as e:\n",
    "            print(f\"Warning: Could not calculate volatility: {e}\")\n",
    "            metrics['Volatility'] = 0.0\n",
    "            \n",
    "        try:\n",
    "            metrics['Sharpe Ratio'] = perf.sharpe_ratio()\n",
    "        except Exception as e:\n",
    "            print(f\"Warning: Could not calculate Sharpe ratio: {e}\")\n",
    "            metrics['Sharpe Ratio'] = 0.0\n",
    "            \n",
    "        try:\n",
    "            drawdown_result = perf.max_drawdown()\n",
    "            metrics['Max Drawdown'] = drawdown_result['max_drawdown'] if isinstance(drawdown_result, dict) else drawdown_result\n",
    "        except Exception as e:\n",
    "            print(f\"Warning: Could not calculate max drawdown: {e}\")\n",
    "            metrics['Max Drawdown'] = 0.0\n",
    "            \n",
    "        try:\n",
    "            metrics['Calmar Ratio'] = perf.calmar_ratio()\n",
    "        except Exception as e:\n",
    "            print(f\"Warning: Could not calculate Calmar ratio: {e}\")\n",
    "            metrics['Calmar Ratio'] = 0.0\n",
    "        \n",
    "        print(\"📈 Performance Metrics:\")\n",
    "        for metric, value in metrics.items():\n",
    "            if 'Return' in metric or 'Volatility' in metric or 'Drawdown' in metric:\n",
    "                print(f\"  {metric}: {value:.2%}\")\n",
    "            else:\n",
    "                print(f\"  {metric}: {value:.2f}\")\n",
    "                \n",
    "    except Exception as e:\n",
    "        print(f\"❌ Error in performance analysis: {e}\")\n",
    "else:\n",
    "    print(\"⚠️ Skipping performance analysis - no portfolio available\")"
   ]
  },
  {
   "cell_type": "markdown",
   "metadata": {},
   "source": [
    "## 5. Risk Analysis and Visualization"
   ]
  },
  {
   "cell_type": "code",
   "execution_count": 5,
   "metadata": {},
   "outputs": [
    {
     "data": {
      "image/png": "[encoded data removed]",
      "text/plain": [
       "<Figure size 1000x800 with 2 Axes>"
      ]
     },
     "metadata": {},
     "output_type": "display_data"
    },
    {
     "name": "stdout",
     "output_type": "stream",
     "text": [
      "\n",
      "🎯 Risk Metrics:\n",
      "  Portfolio Volatility: 31.45%\n",
      "  Portfolio Variance: 0.0989\n"
     ]
    }
   ],
   "source": [
    "# Risk analytics\n",
    "if len(assets) > 0 and 'portfolio' in locals():\n",
    "    try:\n",
    "        risk = RiskAnalytics(portfolio)\n",
    "        \n",
    "        # Get correlation matrix\n",
    "        corr_matrix = risk.correlation_matrix()\n",
    "        \n",
    "        if not corr_matrix.empty and corr_matrix.shape[0] > 1:\n",
    "            # Plot correlation heatmap\n",
    "            plt.figure(figsize=(10, 8))\n",
    "            sns.heatmap(corr_matrix, annot=True, cmap='coolwarm', center=0, \n",
    "                        square=True, linewidths=0.5, fmt='.2f')\n",
    "            plt.title('Asset Correlation Matrix', fontsize=16, fontweight='bold')\n",
    "            plt.tight_layout()\n",
    "            plt.show()\n",
    "        else:\n",
    "            print(\"⚠️ Correlation matrix is empty or has insufficient data\")\n",
    "        \n",
    "        print(f\"\\n🎯 Risk Metrics:\")\n",
    "        try:\n",
    "            portfolio_vol = risk.portfolio_volatility()\n",
    "            print(f\"  Portfolio Volatility: {portfolio_vol:.2%}\")\n",
    "        except Exception as e:\n",
    "            print(f\"  Portfolio Volatility: Error - {e}\")\n",
    "            \n",
    "        try:\n",
    "            portfolio_var = risk.portfolio_variance()\n",
    "            print(f\"  Portfolio Variance: {portfolio_var:.4f}\")\n",
    "        except Exception as e:\n",
    "            print(f\"  Portfolio Variance: Error - {e}\")\n",
    "            \n",
    "    except Exception as e:\n",
    "        print(f\"❌ Error in risk analysis: {e}\")\n",
    "else:\n",
    "    print(\"⚠️ Skipping risk analysis - no portfolio available\")"
   ]
  },
  {
   "cell_type": "markdown",
   "metadata": {},
   "source": [
    "## 6. Individual Asset Performance"
   ]
  },
  {
   "cell_type": "code",
   "execution_count": 6,
   "metadata": {},
   "outputs": [
    {
     "name": "stdout",
     "output_type": "stream",
     "text": [
      "📊 Individual Asset Performance:\n",
      "Symbol  Current Price Total Return Volatility  Sharpe Ratio Max Drawdown\n",
      "  AAPL         230.03        3.74%     32.52%          0.05      -33.36%\n",
      " GOOGL         240.37       56.07%     31.93%          1.71      -29.81%\n",
      "  MSFT         501.01       18.21%     24.73%          0.66      -21.83%\n",
      "  AMZN         229.95       22.97%     33.63%          0.63      -30.88%\n",
      "  TSLA         368.81       60.48%      70.8%          0.83      -53.77%\n",
      "  NVDA         177.17       48.75%     49.78%          0.95      -36.88%\n"
     ]
    }
   ],
   "source": [
    "# Analyze individual assets\n",
    "if len(assets) > 0:\n",
    "    asset_metrics = []\n",
    "    \n",
    "    for asset in assets:\n",
    "        try:\n",
    "            # Create temporary portfolio for individual analysis\n",
    "            temp_portfolio = Portfolio(name=f\"Temp {asset.symbol}\")\n",
    "            temp_portfolio.add_asset(asset.symbol, asset, 1.0)\n",
    "            \n",
    "            temp_perf = PerformanceAnalytics(temp_portfolio)\n",
    "            \n",
    "            # Get metrics with error handling\n",
    "            current_price = asset.price_data['Close'].iloc[-1] if not asset.price_data.empty else 0\n",
    "            \n",
    "            try:\n",
    "                total_return = temp_perf.total_return()\n",
    "            except:\n",
    "                total_return = 0.0\n",
    "                \n",
    "            try:\n",
    "                volatility = temp_perf.volatility()\n",
    "            except:\n",
    "                volatility = 0.0\n",
    "                \n",
    "            try:\n",
    "                sharpe_ratio = temp_perf.sharpe_ratio()\n",
    "            except:\n",
    "                sharpe_ratio = 0.0\n",
    "                \n",
    "            try:\n",
    "                max_dd_result = temp_perf.max_drawdown()\n",
    "                max_drawdown = max_dd_result['max_drawdown'] if isinstance(max_dd_result, dict) else max_dd_result\n",
    "            except:\n",
    "                max_drawdown = 0.0\n",
    "            \n",
    "            metrics = {\n",
    "                'Symbol': asset.symbol,\n",
    "                'Current Price': current_price,\n",
    "                'Total Return': total_return,\n",
    "                'Volatility': volatility,\n",
    "                'Sharpe Ratio': sharpe_ratio,\n",
    "                'Max Drawdown': max_drawdown\n",
    "            }\n",
    "            asset_metrics.append(metrics)\n",
    "            \n",
    "        except Exception as e:\n",
    "            print(f\"Warning: Could not analyze {asset.symbol}: {e}\")\n",
    "            continue\n",
    "    \n",
    "    if asset_metrics:\n",
    "        # Create DataFrame for better display\n",
    "        df_metrics = pd.DataFrame(asset_metrics)\n",
    "        \n",
    "        # Format the dataframe\n",
    "        df_display = df_metrics.copy()\n",
    "        df_display['Current Price'] = df_display['Current Price'].round(2)\n",
    "        df_display['Total Return'] = (df_display['Total Return'] * 100).round(2).astype(str) + '%'\n",
    "        df_display['Volatility'] = (df_display['Volatility'] * 100).round(2).astype(str) + '%'\n",
    "        df_display['Sharpe Ratio'] = df_display['Sharpe Ratio'].round(2)\n",
    "        df_display['Max Drawdown'] = (df_display['Max Drawdown'] * 100).round(2).astype(str) + '%'\n",
    "        \n",
    "        print(\"📊 Individual Asset Performance:\")\n",
    "        print(df_display.to_string(index=False))\n",
    "    else:\n",
    "        print(\"❌ Could not analyze any individual assets\")\n",
    "else:\n",
    "    print(\"⚠️ Skipping individual asset analysis - no assets available\")"
   ]
  },
  {
   "cell_type": "markdown",
   "metadata": {},
   "source": [
    "## 7. Portfolio Optimization"
   ]
  },
  {
   "cell_type": "code",
   "execution_count": 7,
   "metadata": {},
   "outputs": [
    {
     "name": "stdout",
     "output_type": "stream",
     "text": [
      "🎯 Optimizing portfolio for maximum Sharpe ratio...\n",
      "\n",
      "✅ Optimization successful!\n",
      "\n",
      "Optimal Weights:\n",
      "  AAPL: 0.0%\n",
      "  GOOGL: 80.1%\n",
      "  MSFT: 0.0%\n",
      "  AMZN: 0.0%\n",
      "  TSLA: 6.0%\n",
      "  NVDA: 14.0%\n",
      "\n",
      "Expected Return: 51.82%\n",
      "Expected Volatility: 31.94%\n",
      "Expected Sharpe Ratio: 1.62\n"
     ]
    }
   ],
   "source": [
    "# Portfolio optimization\n",
    "if len(assets) > 1:  # Need at least 2 assets for optimization\n",
    "    try:\n",
    "        optimizer = PortfolioOptimizer(assets)\n",
    "        \n",
    "        # Mean-variance optimization (maximize Sharpe ratio)\n",
    "        print(\"🎯 Optimizing portfolio for maximum Sharpe ratio...\")\n",
    "        optimal_result = optimizer.mean_variance_optimization()\n",
    "        \n",
    "        if optimal_result.get('optimization_success', False):\n",
    "            print(\"\\n✅ Optimization successful!\")\n",
    "            print(\"\\nOptimal Weights:\")\n",
    "            for symbol, weight in optimal_result['weights'].items():\n",
    "                print(f\"  {symbol}: {weight:.1%}\")\n",
    "            \n",
    "            print(f\"\\nExpected Return: {optimal_result.get('expected_return', 0):.2%}\")\n",
    "            print(f\"Expected Volatility: {optimal_result.get('expected_volatility', 0):.2%}\")\n",
    "            print(f\"Expected Sharpe Ratio: {optimal_result.get('expected_sharpe', 0):.2f}\")\n",
    "        else:\n",
    "            print(\"❌ Optimization failed\")\n",
    "            print(f\"Error: {optimal_result.get('error', 'Unknown error')}\")\n",
    "            optimal_result = None\n",
    "            \n",
    "    except Exception as e:\n",
    "        print(f\"❌ Error in optimization: {e}\")\n",
    "        optimal_result = None\n",
    "else:\n",
    "    print(\"⚠️ Skipping optimization - need at least 2 assets\")\n",
    "    optimal_result = None"
   ]
  },
  {
   "cell_type": "markdown",
   "metadata": {},
   "source": [
    "## Summary\n",
    "\n",
    "This notebook demonstrated the key features of the Portfolio Manager package:\n",
    "\n",
    "1. **Data Fetching**: Retrieved real market data for tech stocks\n",
    "2. **Portfolio Creation**: Built equal-weighted portfolios\n",
    "3. **Performance Analysis**: Calculated returns, volatility, and risk metrics\n",
    "4. **Risk Analysis**: Analyzed correlations and portfolio risk\n",
    "5. **Individual Analysis**: Examined each asset's performance\n",
    "6. **Optimization**: Implemented mean-variance optimization\n",
    "\n",
    "The Portfolio Manager package provides professional-grade portfolio management capabilities suitable for:\n",
    "- Individual investors\n",
    "- Financial advisors\n",
    "- Academic research\n",
    "- Quantitative analysis\n",
    "\n",
    "🚀 **Ready to build your own portfolio management applications!**"
   ]
  },
  {
   "cell_type": "markdown",
   "metadata": {},
   "source": [
    "## Troubleshooting\n",
    "\n",
    "If you encounter errors:\n",
    "\n",
    "1. **Import Issues**: Make sure you're running this notebook from the `notebooks/` directory\n",
    "2. **Data Fetching Issues**: Check your internet connection or try with fewer symbols\n",
    "3. **Timezone Issues**: Some calculations may fail due to timezone mismatches in the data\n",
    "4. **Optimization Issues**: Make sure you have at least 2 assets for optimization\n",
    "\n",
    "Most errors are handled gracefully with fallbacks and warning messages."
   ]
  },
  {
   "cell_type": "markdown",
   "metadata": {},
   "source": [
    "## Quick Test\n",
    "\n",
    "Run this cell to quickly test if everything is working:"
   ]
  },
  {
   "cell_type": "code",
   "execution_count": 8,
   "metadata": {},
   "outputs": [
    {
     "name": "stdout",
     "output_type": "stream",
     "text": [
      "Running quick test...\n",
      "✅ Imports working\n",
      "✅ Data provider created\n",
      "✅ Portfolio created\n",
      "\n",
      "🎉 All basic functionality working!\n",
      "You can now run the full notebook.\n"
     ]
    }
   ],
   "source": [
    "# Quick test\n",
    "print(\"Running quick test...\")\n",
    "try:\n",
    "    # Test basic imports\n",
    "    from portfolio_manager import Portfolio, YFinanceProvider\n",
    "    print(\"✅ Imports working\")\n",
    "    \n",
    "    # Test data provider\n",
    "    provider = YFinanceProvider()\n",
    "    print(\"✅ Data provider created\")\n",
    "    \n",
    "    # Test portfolio creation\n",
    "    portfolio = Portfolio(name=\"Test\")\n",
    "    print(\"✅ Portfolio created\")\n",
    "    \n",
    "    print(\"\\n🎉 All basic functionality working!\")\n",
    "    print(\"You can now run the full notebook.\")\n",
    "    \n",
    "except Exception as e:\n",
    "    print(f\"❌ Test failed: {e}\")\n",
    "    print(\"Please check the troubleshooting section above.\")"
   ]
  }
 ],
 "metadata": {
  "kernelspec": {
   "display_name": ".venv",
   "language": "python",
   "name": "python3"
  },
  "language_info": {
   "codemirror_mode": {
    "name": "ipython",
    "version": 3
   },
   "file_extension": ".py",
   "mimetype": "text/x-python",
   "name": "python",
   "nbconvert_exporter": "python",
   "pygments_lexer": "ipython3",
   "version": "3.12.5"
  }
 },
 "nbformat": 4,
 "nbformat_minor": 4
}
